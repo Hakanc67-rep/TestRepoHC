{
 "cells": [
  {
   "cell_type": "markdown",
   "id": "abef982c-367b-4f09-a060-b82fd9d8383b",
   "metadata": {},
   "source": [
    "## In diesem Notebook werden die Werkzeuge und Ökosysteme der Datenwissenschaft zusammengefasst."
   ]
  },
  {
   "cell_type": "markdown",
   "id": "be440ec5-c1a3-4911-8480-3ca7e6fa6210",
   "metadata": {},
   "source": [
    "# Ziele:\n",
    "- Einen Überblick über Code- und Markdown-Zellen zu erhalten \n",
    "- Eine bestehende Codezelle ausführen\n",
    "- Einfügen und Löschen einer Codezelle\n",
    "- Kommentare in Python zu schreiben\n",
    "- Markdown-Zellen erstellen und verwenden"
   ]
  },
  {
   "cell_type": "markdown",
   "id": "e917c301-5710-454c-98ca-d0402c6cd522",
   "metadata": {},
   "source": [
    "### Einige der beliebten Sprachen, die Datenwissenschaftler verwenden, sind:\n",
    "### 1 - Pyton\n",
    "### 2 - R\n",
    "### 3 - Java"
   ]
  },
  {
   "cell_type": "markdown",
   "id": "2a72a887-32a3-4113-9ec2-1235379d3a4f",
   "metadata": {},
   "source": [
    "### Einige der häufig verwendeten Bibliotheken, die von Datenwissenschaftlern verwendet werden, sind:\n",
    "### 1-Pandas\n",
    "### 2-NumPy\n",
    "### 3-Spark"
   ]
  },
  {
   "cell_type": "code",
   "execution_count": null,
   "id": "14d81dfc-4a47-4e7b-8e2b-51d655511bc5",
   "metadata": {},
   "outputs": [],
   "source": []
  },
  {
   "cell_type": "code",
   "execution_count": null,
   "id": "8ba92dbb-efb1-460d-8ef9-24d65b2d816c",
   "metadata": {},
   "outputs": [],
   "source": []
  },
  {
   "cell_type": "markdown",
   "id": "a3d2693c-39e5-426b-80a6-8dea5ed1400b",
   "metadata": {},
   "source": [
    "| Data Science Tools |\n",
    "| -------------\n",
    "| MySQL\n",
    "| Apache Airflow\n",
    "| Apache Spark "
   ]
  },
  {
   "cell_type": "code",
   "execution_count": null,
   "id": "4de90454-7802-417c-995c-de73176c035d",
   "metadata": {},
   "outputs": [],
   "source": []
  },
  {
   "cell_type": "markdown",
   "id": "4f530342-bd22-4eb2-ba2a-43b4b914e0cd",
   "metadata": {},
   "source": [
    "### Unten sind einige Beispiele zur Auswertung arithmetischer Ausdrücke in Python."
   ]
  },
  {
   "cell_type": "code",
   "execution_count": 7,
   "id": "b98ca109-1ab9-4e60-a312-c295fcbd91c1",
   "metadata": {},
   "outputs": [
    {
     "data": {
      "text/html": [
       "17"
      ],
      "text/latex": [
       "17"
      ],
      "text/markdown": [
       "17"
      ],
      "text/plain": [
       "[1] 17"
      ]
     },
     "metadata": {},
     "output_type": "display_data"
    }
   ],
   "source": [
    "# Dies ist ein einfacher arithmetischer Ausdruck, um Ganzzahlen zu multiplizieren und dann zu addieren\n",
    "(3*4)+5"
   ]
  },
  {
   "cell_type": "code",
   "execution_count": 10,
   "id": "e114f553-2037-4b95-bcc3-685653891233",
   "metadata": {},
   "outputs": [
    {
     "data": {
      "text/html": [
       "3.33333333333333"
      ],
      "text/latex": [
       "3.33333333333333"
      ],
      "text/markdown": [
       "3.33333333333333"
      ],
      "text/plain": [
       "[1] 3.333333"
      ]
     },
     "metadata": {},
     "output_type": "display_data"
    }
   ],
   "source": [
    "# Dies wandelt 200 Minuten in Stunden um, indem durch 60 geteilt wird\n",
    "200/60\n"
   ]
  },
  {
   "cell_type": "code",
   "execution_count": null,
   "id": "c2df1cab-dc33-49e6-9c2b-c44c2697fb47",
   "metadata": {},
   "outputs": [],
   "source": []
  }
 ],
 "metadata": {
  "kernelspec": {
   "display_name": "R [conda env:WeiterbildungDataScience]",
   "language": "R",
   "name": "conda-env-WeiterbildungDataScience-r"
  },
  "language_info": {
   "codemirror_mode": "r",
   "file_extension": ".r",
   "mimetype": "text/x-r-source",
   "name": "R",
   "pygments_lexer": "r",
   "version": "3.6.1"
  }
 },
 "nbformat": 4,
 "nbformat_minor": 5
}
