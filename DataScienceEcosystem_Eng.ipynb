{
 "cells": [
  {
   "cell_type": "markdown",
   "id": "edab7c80-cfc2-42c3-b13f-092f996322ad",
   "metadata": {},
   "source": [
    "# Data Science Tools and Ecosystem"
   ]
  },
  {
   "cell_type": "markdown",
   "id": "55b5d293-cc50-4c9f-8448-a960afb72c23",
   "metadata": {},
   "source": [
    "## In this notebook, Data Science Tools and Ecosystem are summarized."
   ]
  },
  {
   "cell_type": "markdown",
   "id": "011ee0af-c71e-4bd6-b410-11d774e68813",
   "metadata": {},
   "source": [
    "# Objectives:\n",
    "- To get an overview of code and markdown cells\n",
    "- To execute an existing code cell\n",
    "- To insert and delete a code cell\n",
    "- To write comments in Python\n",
    "- To create and use markdown cells"
   ]
  },
  {
   "cell_type": "markdown",
   "id": "62ff564b-d4fe-4fb7-99f2-d3f39b59c29b",
   "metadata": {},
   "source": [
    "## Author:\n",
    "Hakan Cetinkaya"
   ]
  },
  {
   "cell_type": "markdown",
   "id": "a6f96ad2-93ec-43ed-b0d1-f6b7770576c0",
   "metadata": {},
   "source": [
    "### Some of the popular languages that Data Scientists use are::\n",
    "### 1 - Pyton\n",
    "### 2 - R\n",
    "### 3 - Java"
   ]
  },
  {
   "cell_type": "markdown",
   "id": "83d05cfa-a86c-4872-b35d-141c5a19e422",
   "metadata": {},
   "source": [
    "### Some of the commonly used libraries used by Data Scientists include:\n",
    "### 1-Pandas\n",
    "### 2-NumPy\n",
    "### 3-Spark"
   ]
  },
  {
   "cell_type": "markdown",
   "id": "19498ced-a3df-401e-83bb-5df76b03558a",
   "metadata": {},
   "source": [
    "| Data Science Tools |\n",
    "| -------------\n",
    "| MySQL\n",
    "| Apache Airflow\n",
    "| Apache Spark "
   ]
  },
  {
   "cell_type": "markdown",
   "id": "17e1af04-83a6-40b0-a59c-783b7105dcd4",
   "metadata": {},
   "source": [
    "### Below are a few examples of evaluating arithmetic expressions in Python"
   ]
  },
  {
   "cell_type": "code",
   "execution_count": 2,
   "id": "5e89362d-8b23-41f0-b4ad-eeced53b30cb",
   "metadata": {},
   "outputs": [
    {
     "data": {
      "text/plain": [
       "17"
      ]
     },
     "execution_count": 2,
     "metadata": {},
     "output_type": "execute_result"
    }
   ],
   "source": [
    "# This a simple arithmetic expression to mutiply then add integers\n",
    "(3*4)+5"
   ]
  },
  {
   "cell_type": "code",
   "execution_count": 3,
   "id": "c9f17e84-1020-4082-900f-7e1955ebcf68",
   "metadata": {},
   "outputs": [
    {
     "data": {
      "text/plain": [
       "3.3333333333333335"
      ]
     },
     "execution_count": 3,
     "metadata": {},
     "output_type": "execute_result"
    }
   ],
   "source": [
    "# This will convert 200 minutes to hours by diving by 60\n",
    "200/60"
   ]
  },
  {
   "cell_type": "code",
   "execution_count": null,
   "id": "00677130-3e05-4f4e-9187-448648b6cc68",
   "metadata": {},
   "outputs": [],
   "source": []
  }
 ],
 "metadata": {
  "kernelspec": {
   "display_name": "Python [conda env:base] *",
   "language": "python",
   "name": "conda-base-py"
  },
  "language_info": {
   "codemirror_mode": {
    "name": "ipython",
    "version": 3
   },
   "file_extension": ".py",
   "mimetype": "text/x-python",
   "name": "python",
   "nbconvert_exporter": "python",
   "pygments_lexer": "ipython3",
   "version": "3.13.5"
  }
 },
 "nbformat": 4,
 "nbformat_minor": 5
}
